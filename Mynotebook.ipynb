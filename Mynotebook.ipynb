{
  "metadata": {
    "language_info": {
      "codemirror_mode": {
        "name": "python",
        "version": 3
      },
      "file_extension": ".py",
      "mimetype": "text/x-python",
      "name": "python",
      "nbconvert_exporter": "python",
      "pygments_lexer": "ipython3",
      "version": "3.8"
    },
    "kernelspec": {
      "name": "python",
      "display_name": "Pyolite",
      "language": "python"
    }
  },
  "nbformat_minor": 4,
  "nbformat": 4,
  "cells": [
    {
      "cell_type": "markdown",
      "source": "# My Jupytor Notebook on IBM Watson Studio",
      "metadata": {}
    },
    {
      "cell_type": "markdown",
      "source": "<b>W.G.U.S. Jayasena</b><br>\nPharmacist",
      "metadata": {}
    },
    {
      "cell_type": "markdown",
      "source": "<i> I am interested in data science because it is a growing interdisciplinary field which deals with large amount of data. It helps to overcome persisting issues in the society by analyzing and visualizing real data.</i>",
      "metadata": {}
    },
    {
      "cell_type": "markdown",
      "source": "### Write and Execute a code in the Jupyter Notebook",
      "metadata": {}
    },
    {
      "cell_type": "code",
      "source": "(3+5)*6",
      "metadata": {
        "trusted": true
      },
      "execution_count": 1,
      "outputs": [
        {
          "execution_count": 1,
          "output_type": "execute_result",
          "data": {
            "text/plain": "48"
          },
          "metadata": {}
        }
      ]
    },
    {
      "cell_type": "markdown",
      "source": "---\n#### Types of Machine Learning\n<ol>\n    <li>Supervised Learning</li>\n        * Regression\n        * Classification\n    <li>Unsupervised Learning</li>\n    <li>Reinforecement Learning</li>\n</ol>\n\n---\n|Name  |Age|Gender|Occupation|\n|----  |---|------|----------|\n|Hanna |30 |Female|Teacher   |\n|Mathew|25 |Male  |Councellor|\n|John  |40 |Male  |Driver    |\n\n---\n__[Link to Google](https://www.google.com/)__\n\n\n\n\n\n    ",
      "metadata": {}
    },
    {
      "cell_type": "code",
      "source": "",
      "metadata": {},
      "execution_count": null,
      "outputs": []
    }
  ]
}